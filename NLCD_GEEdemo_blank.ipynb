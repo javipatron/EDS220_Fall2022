{
 "cells": [
  {
   "cell_type": "markdown",
   "id": "f824cc63-7830-454a-9f07-bda55bd60098",
   "metadata": {},
   "source": [
    "# EDS 220 Fall 2022\n",
    "## Exploring Land Use Datasets\n",
    "\n",
    "This notebook will give us a chance to load and play with data from the National Land Cover Database using Google Earth Engine. This exercise has been adapted from:\n",
    "\n",
    "https://geemap.org/notebooks/nlcd_datapane/\n",
    "\n",
    "We'll use \"standard\" Google Earth Engine packages to display this information:"
   ]
  },
  {
   "cell_type": "code",
   "execution_count": 1,
   "id": "98ab7891-c101-45d6-bb68-e00efb3a56c1",
   "metadata": {},
   "outputs": [],
   "source": [
    "# Import packages\n",
    "import ee\n",
    "import geemap"
   ]
  },
  {
   "cell_type": "code",
   "execution_count": 4,
   "id": "5bb9d104-b2ab-46e2-becb-902d4f77bef4",
   "metadata": {},
   "outputs": [],
   "source": [
    "# Authenticate and initialize Google Earth Engine\n",
    "#ee.Authenticate()\n",
    "ee.Initialize()"
   ]
  },
  {
   "cell_type": "markdown",
   "id": "e37bdaaa-a051-40d3-8b1c-a3d2ad485e18",
   "metadata": {},
   "source": [
    "The latest version of the NLCD available in Earth Engine is NLCD 2019:\n",
    "\n",
    "https://developers.google.com/earth-engine/datasets/catalog/USGS_NLCD_RELEASES_2019_REL_NLCD\n",
    "\n",
    "First, we can load the image collection holding that database:"
   ]
  },
  {
   "cell_type": "code",
   "execution_count": 38,
   "id": "45e26e5c-8a16-46c4-9d25-30af567c543e",
   "metadata": {},
   "outputs": [
    {
     "data": {
      "text/plain": [
       "{'type': 'Image',\n",
       " 'bands': [{'id': 'landcover',\n",
       "   'data_type': {'type': 'PixelType',\n",
       "    'precision': 'int',\n",
       "    'min': 0,\n",
       "    'max': 255},\n",
       "   'dimensions': [161190, 104424],\n",
       "   'crs': 'PROJCS[\"IMAGINE GeoTIFF Support\\nERDAS IMAGINE 2018  16.5.0.596\\nProjection = Albers Conical Equal Area\", \\n  GEOGCS[\"WGS 84\", \\n    DATUM[\"WGS_1984\", \\n      SPHEROID[\"WGS 84\", 6378137.0, 298.257223563, AUTHORITY[\"EPSG\",\"7030\"]], \\n      AUTHORITY[\"EPSG\",\"6326\"]], \\n    PRIMEM[\"Greenwich\", 0.0], \\n    UNIT[\"degree\", 0.017453292519943295], \\n    AXIS[\"Longitude\", EAST], \\n    AXIS[\"Latitude\", NORTH], \\n    AUTHORITY[\"EPSG\",\"4326\"]], \\n  PROJECTION[\"Albers_Conic_Equal_Area\"], \\n  PARAMETER[\"central_meridian\", -96.0], \\n  PARAMETER[\"latitude_of_origin\", 23.0], \\n  PARAMETER[\"standard_parallel_1\", 29.5], \\n  PARAMETER[\"false_easting\", 0.0], \\n  PARAMETER[\"false_northing\", 0.0], \\n  PARAMETER[\"standard_parallel_2\", 45.5], \\n  UNIT[\"m\", 1.0], \\n  AXIS[\"x\", EAST], \\n  AXIS[\"y\", NORTH]]',\n",
       "   'crs_transform': [30, 0, -2493045, 0, -30, 3310005]},\n",
       "  {'id': 'impervious',\n",
       "   'data_type': {'type': 'PixelType',\n",
       "    'precision': 'int',\n",
       "    'min': 0,\n",
       "    'max': 255},\n",
       "   'dimensions': [161190, 104424],\n",
       "   'crs': 'PROJCS[\"IMAGINE GeoTIFF Support\\nERDAS IMAGINE 2018  16.5.0.596\\nProjection = Albers Conical Equal Area\", \\n  GEOGCS[\"WGS 84\", \\n    DATUM[\"WGS_1984\", \\n      SPHEROID[\"WGS 84\", 6378137.0, 298.257223563, AUTHORITY[\"EPSG\",\"7030\"]], \\n      AUTHORITY[\"EPSG\",\"6326\"]], \\n    PRIMEM[\"Greenwich\", 0.0], \\n    UNIT[\"degree\", 0.017453292519943295], \\n    AXIS[\"Longitude\", EAST], \\n    AXIS[\"Latitude\", NORTH], \\n    AUTHORITY[\"EPSG\",\"4326\"]], \\n  PROJECTION[\"Albers_Conic_Equal_Area\"], \\n  PARAMETER[\"central_meridian\", -96.0], \\n  PARAMETER[\"latitude_of_origin\", 23.0], \\n  PARAMETER[\"standard_parallel_1\", 29.5], \\n  PARAMETER[\"false_easting\", 0.0], \\n  PARAMETER[\"false_northing\", 0.0], \\n  PARAMETER[\"standard_parallel_2\", 45.5], \\n  UNIT[\"m\", 1.0], \\n  AXIS[\"x\", EAST], \\n  AXIS[\"y\", NORTH]]',\n",
       "   'crs_transform': [30, 0, -2493045, 0, -30, 3310005]},\n",
       "  {'id': 'impervious_descriptor',\n",
       "   'data_type': {'type': 'PixelType',\n",
       "    'precision': 'int',\n",
       "    'min': 0,\n",
       "    'max': 255},\n",
       "   'dimensions': [161190, 104424],\n",
       "   'crs': 'PROJCS[\"IMAGINE GeoTIFF Support\\nERDAS IMAGINE 2018  16.5.0.596\\nProjection = Albers Conical Equal Area\", \\n  GEOGCS[\"WGS 84\", \\n    DATUM[\"WGS_1984\", \\n      SPHEROID[\"WGS 84\", 6378137.0, 298.257223563, AUTHORITY[\"EPSG\",\"7030\"]], \\n      AUTHORITY[\"EPSG\",\"6326\"]], \\n    PRIMEM[\"Greenwich\", 0.0], \\n    UNIT[\"degree\", 0.017453292519943295], \\n    AXIS[\"Longitude\", EAST], \\n    AXIS[\"Latitude\", NORTH], \\n    AUTHORITY[\"EPSG\",\"4326\"]], \\n  PROJECTION[\"Albers_Conic_Equal_Area\"], \\n  PARAMETER[\"central_meridian\", -96.0], \\n  PARAMETER[\"latitude_of_origin\", 23.0], \\n  PARAMETER[\"standard_parallel_1\", 29.5], \\n  PARAMETER[\"false_easting\", 0.0], \\n  PARAMETER[\"false_northing\", 0.0], \\n  PARAMETER[\"standard_parallel_2\", 45.5], \\n  UNIT[\"m\", 1.0], \\n  AXIS[\"x\", EAST], \\n  AXIS[\"y\", NORTH]]',\n",
       "   'crs_transform': [30, 0, -2493045, 0, -30, 3310005]}],\n",
       " 'id': 'USGS/NLCD_RELEASES/2019_REL/NLCD/2001',\n",
       " 'version': 1654972256207626,\n",
       " 'properties': {'impervious_descriptor_class_values': [0,\n",
       "   20,\n",
       "   21,\n",
       "   22,\n",
       "   23,\n",
       "   24,\n",
       "   25,\n",
       "   26,\n",
       "   27,\n",
       "   28,\n",
       "   29],\n",
       "  'landcover_class_names': ['Open water: areas of open water, generally with less than 25% cover of vegetation or soil.',\n",
       "   'Perennial ice/snow: areas characterized by a perennial cover of ice and/or snow, generally greater than 25% of total cover.\\n',\n",
       "   'Developed, open space: areas with a mixture of some constructed materials, but mostly vegetation in the form of lawn grasses. Impervious surfaces account for less than 20% of total cover. These areas most commonly include large-lot single-family housing units, parks, golf courses, and vegetation planted in developed settings for recreation, erosion control, or aesthetic purposes.\\n',\n",
       "   'Developed, low intensity: areas with a mixture of constructed materials and vegetation. Impervious surfaces account for 20% to 49% percent of total cover. These areas most commonly include single-family housing units.\\n',\n",
       "   'Developed, medium intensity: areas with a mixture of constructed materials and vegetation. Impervious surfaces account for 50% to 79% of the total cover. These areas most commonly include single-family housing units.\\n',\n",
       "   'Developed high intensity: highly developed areas where people reside or work in high numbers. Examples include apartment complexes, row houses, and commercial/industrial. Impervious surfaces account for 80% to 100% of the total cover.\\n',\n",
       "   'Barren land (rock/sand/clay): areas of bedrock, desert pavement, scarps, talus, slides, volcanic material, glacial debris, sand dunes, strip mines, gravel pits, and other accumulations of earthen material. Generally, vegetation accounts for less than 15% of total cover.\\n',\n",
       "   'Deciduous forest: areas dominated by trees generally greater than 5 meters tall, and greater than 20% of total vegetation cover. More than 75% of the tree species shed foliage simultaneously in response to seasonal change.\\n',\n",
       "   'Evergreen forest: areas dominated by trees generally greater than 5 meters tall, and greater than 20% of total vegetation cover. More than 75% of the tree species maintain their leaves all year. Canopy is never without green foliage.\\n',\n",
       "   'Mixed forest: areas dominated by trees generally greater than 5 meters tall, and greater than 20% of total vegetation cover. Neither deciduous nor evergreen species are greater than 75% of total tree cover.\\n',\n",
       "   'Dwarf scrub: Alaska only areas dominated by shrubs less than 20 centimeters tall with shrub canopy typically greater than 20% of total vegetation. This type is often co-associated with grasses, sedges, herbs, and non-vascular vegetation.\\n',\n",
       "   'Shrub/scrub: areas dominated by shrubs less than 5 meters tall with shrub canopy typically greater than 20% of total vegetation. This class includes true shrubs, young trees in an early successional stage, or trees stunted from environmental conditions.\\n',\n",
       "   'Grassland/herbaceous: areas dominated by gramanoid or herbaceous vegetation, generally greater than 80% of total vegetation. These areas are not subject to intensive management such as tilling, but can be utilized for grazing.\\n',\n",
       "   'Sedge/herbaceous: Alaska only areas dominated by sedges and forbs, generally greater than 80% of total vegetation. This type can occur with significant other grasses or other grass like plants, and includes sedge tundra and sedge tussock tundra.\\n',\n",
       "   'Lichens: Alaska only areas dominated by fruticose or foliose lichens generally greater than 80% of total vegetation.\\n',\n",
       "   'Moss: Alaska only areas dominated by mosses, generally greater than 80% of total vegetation.',\n",
       "   'Pasture/hay: areas of grasses, legumes, or grass-legume mixtures planted for livestock grazing or the production of seed or hay crops, typically on a perennial cycle. Pasture/hay vegetation accounts for greater than 20% of total vegetation.\\n',\n",
       "   'Cultivated crops: areas used for the production of annual crops, such as corn, soybeans, vegetables, tobacco, and cotton, and also perennial woody crops such as orchards and vineyards. Crop vegetation accounts for greater than 20% of total vegetation. This class also includes all land being actively tilled.\\n',\n",
       "   'Woody wetlands: areas where forest or shrubland vegetation accounts for greater than 20% of vegetative cover and the soil or substrate is periodically saturated with or covered with water.\\n',\n",
       "   'Emergent herbaceous wetlands: areas where perennial herbaceous vegetation accounts for greater than 80% of vegetative cover and the soil or substrate is periodically saturated with or covered with water.\\n'],\n",
       "  'system:time_end': 1009843200000,\n",
       "  'landcover_class_values': [11,\n",
       "   12,\n",
       "   21,\n",
       "   22,\n",
       "   23,\n",
       "   24,\n",
       "   31,\n",
       "   41,\n",
       "   42,\n",
       "   43,\n",
       "   51,\n",
       "   52,\n",
       "   71,\n",
       "   72,\n",
       "   73,\n",
       "   74,\n",
       "   81,\n",
       "   82,\n",
       "   90,\n",
       "   95],\n",
       "  'system:time_start': 978307200000,\n",
       "  'impervious_descriptor_class_palette': ['000000',\n",
       "   'ff0000',\n",
       "   'ffff00',\n",
       "   '0000ff',\n",
       "   'ffffff',\n",
       "   'ffc0c5',\n",
       "   'eb82eb',\n",
       "   '9f1feb',\n",
       "   '40dfd0',\n",
       "   '79ff00',\n",
       "   '005f00'],\n",
       "  'system:footprint': {'type': 'LinearRing',\n",
       "   'coordinates': [[-105.90095863308562, 24.139678035474713],\n",
       "    [-100.0438470413017, 24.545648496919725],\n",
       "    [-88.2820063266809, 24.331303349622537],\n",
       "    [-82.46657845276867, 23.712666414026955],\n",
       "    [-73.59448403264648, 22.076568413784006],\n",
       "    [-70.93371173552747, 31.565622524806255],\n",
       "    [-66.51394653274536, 43.28510939588516],\n",
       "    [-63.63641644172879, 49.168185582273544],\n",
       "    [-76.21612025463648, 51.525377730401935],\n",
       "    [-84.65814556190182, 52.43721810664046],\n",
       "    [-101.95361140752647, 52.756503694834855],\n",
       "    [-110.52593139470122, 52.15325969742198],\n",
       "    [-118.86704310316404, 51.062400754331556],\n",
       "    [-130.24354289091747, 48.70471924476132],\n",
       "    [-127.88519983847146, 44.17496136258756],\n",
       "    [-122.88273959919394, 32.047491995457435],\n",
       "    [-119.78621526695484, 21.742143957752265],\n",
       "    [-111.68363084232533, 23.39493221857397],\n",
       "    [-105.90095863308562, 24.139678035474713]]},\n",
       "  'impervious_descriptor_class_names': ['Unclassified.',\n",
       "   'Primary road. Interstates and other major roads. Pixels were\\nderived from the 2018 NavStreets Street Data.\\n',\n",
       "   'Secondary road. Non-interstate highways. Pixels were derived\\n from the 2018 NavStreets Street Data.\\n',\n",
       "   'Tertiary road. Any two-lane road. Pixels were derived from the\\n2018 NavStreets Street Data.\\n',\n",
       "   'Thinned road. Small tertiary roads that generally are not paved\\nand have been removed from the landcover but remain as part of\\nthe impervious surface product. Pixels were derived from the 2018\\nNavStreets Street Data.\\n',\n",
       "   'Non-road non-energy impervious. Developed areas that are\\ngenerally not roads or energy production; includes\\nresidential/commercial/industrial areas, parks, and golf courses.\\n',\n",
       "   'Microsoft buildings. Buildings not captured in the NLCD\\nimpervious process, and not included in the nonroad impervious\\nsurface class. Pixels derived from the Microsoft US Building\\nFootprints dataset.\\n',\n",
       "   'LCMAP impervious. Impervious pixels from LCMAP that were used\\nto fill in gaps left when roads were updated from previous\\nversions of NLCD.\\n',\n",
       "   'Wind turbines. Pixels derived from the US Wind Turbine Dataset,\\naccessed on 1/9/2020.\\n',\n",
       "   'Well pads. Pixels derived from the 2019 Oil and Natural Gas Wells\\ndataset from the Oak Ridge National Laboratory.\\n',\n",
       "   'Other energy production. Areas previously identified as well pads\\nand wind turbines and classified in coordination with the\\nLandfire project.\\n'],\n",
       "  'system:asset_size': 2839463926,\n",
       "  'landcover_class_palette': ['466b9f',\n",
       "   'd1def8',\n",
       "   'dec5c5',\n",
       "   'd99282',\n",
       "   'eb0000',\n",
       "   'ab0000',\n",
       "   'b3ac9f',\n",
       "   '68ab5f',\n",
       "   '1c5f2c',\n",
       "   'b5c58f',\n",
       "   'af963c',\n",
       "   'ccb879',\n",
       "   'dfdfc2',\n",
       "   'd1d182',\n",
       "   'a3cc51',\n",
       "   '82ba9e',\n",
       "   'dcd939',\n",
       "   'ab6c28',\n",
       "   'b8d9eb',\n",
       "   '6c9fb8'],\n",
       "  'system:index': '2001'}}"
      ]
     },
     "execution_count": 38,
     "metadata": {},
     "output_type": "execute_result"
    }
   ],
   "source": [
    "# Load NLCD 2019 data collection\n",
    "nlcd_dat = ee.ImageCollection(\"USGS/NLCD_RELEASES/2019_REL/NLCD\")\n",
    "nlcd_first = nlcd_dat.first()\n",
    "\n",
    "nlcd_first.getInfo()"
   ]
  },
  {
   "cell_type": "markdown",
   "id": "21858841-4398-40ef-bbe7-686ba4ac5b12",
   "metadata": {},
   "source": [
    "The link above lets us explore the metadata associated with that image collection, which reveals that there are 8 different epochs included in this database: 2001, 2004, 2006, 2008, 2011, 2013, 2016, and 2019.\n",
    "\n",
    "For each of the different epochs, the data has been stored as a single image - so we'll eventually want to load the epochal data as one image, rather than an ImageCollection, using the `.first()` method.\n",
    "\n",
    "An efficient way to load in all of the data for each epoch is to define a _function_ which takes a year as its argument, and loads in the NLCD information corresponding to that year as a variable which can then be passed as a layer to GEE's mapping module. This is what the code block below does:"
   ]
  },
  {
   "cell_type": "code",
   "execution_count": 27,
   "id": "b2015d25-1ae9-44c5-92b2-4a7337e82da9",
   "metadata": {},
   "outputs": [],
   "source": [
    "# Get an NLCD image by year.\n",
    "def getNLCD(year):\n",
    "    \n",
    "    # Import the NLCD collection.\n",
    "    dataset = ee.ImageCollection(\"USGS/NLCD_RELEASES/2019_REL/NLCD\")\n",
    "\n",
    "    # Filter the collection by year.\n",
    "    nlcd = dataset.filter(ee.Filter.eq('system:index', year)).first()\n",
    "\n",
    "    # Select the land cover band.\n",
    "    landcover = nlcd.select('landcover')\n",
    "    \n",
    "    # Return a variable containing information from the land cover band\n",
    "    return landcover\n",
    "\n"
   ]
  },
  {
   "cell_type": "markdown",
   "id": "880f530f-4181-4dcc-a29d-c5a6b3f6d464",
   "metadata": {},
   "source": [
    "Another preparatory step is to create a base map on which we can plot the data we'll extract:"
   ]
  },
  {
   "cell_type": "code",
   "execution_count": 28,
   "id": "a6338864-0cea-4e09-a637-ce3dd4ccf208",
   "metadata": {},
   "outputs": [
    {
     "data": {
      "application/vnd.jupyter.widget-view+json": {
       "model_id": "f57f537a07f34b3998944a316abeb8b6",
       "version_major": 2,
       "version_minor": 0
      },
      "text/plain": [
       "Map(center=[34.42, -119.69], controls=(WidgetControl(options=['position', 'transparent_bg'], widget=HBox(child…"
      ]
     },
     "execution_count": 28,
     "metadata": {},
     "output_type": "execute_result"
    }
   ],
   "source": [
    "# Create and plot basemap\n",
    "Map = geemap.Map(center=[34.42, -119.69], zoom = 8)\n",
    "\n",
    "Map"
   ]
  },
  {
   "cell_type": "markdown",
   "id": "d51e32c9-2f9c-421d-956a-1e9adbdd60db",
   "metadata": {},
   "source": [
    "Now that our NLCD data extraction function has been defined, we can use it! First, we define an array containing all the years for which we would like to view data.\n",
    "\n",
    "Then, we loop over each element in that year array, extract the NLCD information, and pass it to the GEE basemap."
   ]
  },
  {
   "cell_type": "code",
   "execution_count": 29,
   "id": "d28e2229-55e4-4000-b6dc-715bb0d2e57b",
   "metadata": {},
   "outputs": [],
   "source": [
    "# Define array of years corresponding to NLCD epochs\n",
    "\n",
    "array_years = ['2001', '2004', '2006', '2008', '2011','2013','2016', '2019']\n",
    "\n",
    "# Loop over years, call function to extract NLCD data\n",
    "\n",
    "for i in array_years:\n",
    "    data = getNLCD(i)\n",
    "    Map.addLayer(data, {}, 'NLCD' + i)"
   ]
  },
  {
   "cell_type": "markdown",
   "id": "dfa49e5d-42cc-4a9f-871a-1287e3949670",
   "metadata": {},
   "source": [
    "This results in a very colorful map which can be hard to interpret without a legend. Fortunately, the NLCD color scheme is one of the legends that GEE has hard-coded as a built-in legend! The full list of legend options is available here:\n",
    "\n",
    "https://geemap.org/notebooks/14_legends/"
   ]
  },
  {
   "cell_type": "code",
   "execution_count": 39,
   "id": "10edcaf9-d904-438a-85b0-ef07434b951d",
   "metadata": {},
   "outputs": [],
   "source": [
    "# Add the NLCD legend to the map.\n",
    "\n",
    "Map.add_legend(legend_title = 'land cover class', builtin_legend = 'NLCD')"
   ]
  },
  {
   "cell_type": "code",
   "execution_count": null,
   "id": "1e434437-60ac-4a64-b801-ab8e44edb1ae",
   "metadata": {},
   "outputs": [],
   "source": []
  }
 ],
 "metadata": {
  "kernelspec": {
   "display_name": "Python 3 (ipykernel)",
   "language": "python",
   "name": "python3"
  },
  "language_info": {
   "codemirror_mode": {
    "name": "ipython",
    "version": 3
   },
   "file_extension": ".py",
   "mimetype": "text/x-python",
   "name": "python",
   "nbconvert_exporter": "python",
   "pygments_lexer": "ipython3",
   "version": "3.10.5"
  }
 },
 "nbformat": 4,
 "nbformat_minor": 5
}
